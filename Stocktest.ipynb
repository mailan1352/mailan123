{
  "nbformat": 4,
  "nbformat_minor": 0,
  "metadata": {
    "colab": {
      "provenance": [],
      "authorship_tag": "ABX9TyMyY27nNbphuDqFwtj6FLn8",
      "include_colab_link": true
    },
    "kernelspec": {
      "name": "python3",
      "display_name": "Python 3"
    },
    "language_info": {
      "name": "python"
    }
  },
  "cells": [
    {
      "cell_type": "markdown",
      "metadata": {
        "id": "view-in-github",
        "colab_type": "text"
      },
      "source": [
        "<a href=\"https://colab.research.google.com/github/mailan1352/mailan123/blob/main/Stocktest.ipynb\" target=\"_parent\"><img src=\"https://colab.research.google.com/assets/colab-badge.svg\" alt=\"Open In Colab\"/></a>"
      ]
    },
    {
      "cell_type": "code",
      "execution_count": 10,
      "metadata": {
        "colab": {
          "base_uri": "https://localhost:8080/"
        },
        "id": "Bg0l_el0EUMP",
        "outputId": "07eded26-ff5a-40e3-a587-a4b44be3f9e3"
      },
      "outputs": [
        {
          "output_type": "stream",
          "name": "stdout",
          "text": [
            "Requirement already satisfied: vnstock3 in /usr/local/lib/python3.10/dist-packages (0.3.0.1)\n",
            "Requirement already satisfied: requests in /usr/local/lib/python3.10/dist-packages (from vnstock3) (2.31.0)\n",
            "Requirement already satisfied: beautifulsoup4 in /usr/local/lib/python3.10/dist-packages (from vnstock3) (4.12.3)\n",
            "Requirement already satisfied: pandas in /usr/local/lib/python3.10/dist-packages (from vnstock3) (2.0.3)\n",
            "Requirement already satisfied: vnai>=0.1.0 in /usr/local/lib/python3.10/dist-packages (from vnstock3) (0.1.0)\n",
            "Requirement already satisfied: openpyxl in /usr/local/lib/python3.10/dist-packages (from vnstock3) (3.1.2)\n",
            "Requirement already satisfied: pydantic in /usr/local/lib/python3.10/dist-packages (from vnstock3) (2.7.1)\n",
            "Requirement already satisfied: psutil in /usr/local/lib/python3.10/dist-packages (from vnstock3) (5.9.5)\n",
            "Requirement already satisfied: fake-useragent in /usr/local/lib/python3.10/dist-packages (from vnstock3) (1.5.1)\n",
            "Requirement already satisfied: cryptography in /usr/local/lib/python3.10/dist-packages (from vnai>=0.1.0->vnstock3) (42.0.7)\n",
            "Requirement already satisfied: soupsieve>1.2 in /usr/local/lib/python3.10/dist-packages (from beautifulsoup4->vnstock3) (2.5)\n",
            "Requirement already satisfied: et-xmlfile in /usr/local/lib/python3.10/dist-packages (from openpyxl->vnstock3) (1.1.0)\n",
            "Requirement already satisfied: python-dateutil>=2.8.2 in /usr/local/lib/python3.10/dist-packages (from pandas->vnstock3) (2.8.2)\n",
            "Requirement already satisfied: pytz>=2020.1 in /usr/local/lib/python3.10/dist-packages (from pandas->vnstock3) (2023.4)\n",
            "Requirement already satisfied: tzdata>=2022.1 in /usr/local/lib/python3.10/dist-packages (from pandas->vnstock3) (2024.1)\n",
            "Requirement already satisfied: numpy>=1.21.0 in /usr/local/lib/python3.10/dist-packages (from pandas->vnstock3) (1.25.2)\n",
            "Requirement already satisfied: annotated-types>=0.4.0 in /usr/local/lib/python3.10/dist-packages (from pydantic->vnstock3) (0.6.0)\n",
            "Requirement already satisfied: pydantic-core==2.18.2 in /usr/local/lib/python3.10/dist-packages (from pydantic->vnstock3) (2.18.2)\n",
            "Requirement already satisfied: typing-extensions>=4.6.1 in /usr/local/lib/python3.10/dist-packages (from pydantic->vnstock3) (4.11.0)\n",
            "Requirement already satisfied: charset-normalizer<4,>=2 in /usr/local/lib/python3.10/dist-packages (from requests->vnstock3) (3.3.2)\n",
            "Requirement already satisfied: idna<4,>=2.5 in /usr/local/lib/python3.10/dist-packages (from requests->vnstock3) (3.7)\n",
            "Requirement already satisfied: urllib3<3,>=1.21.1 in /usr/local/lib/python3.10/dist-packages (from requests->vnstock3) (2.0.7)\n",
            "Requirement already satisfied: certifi>=2017.4.17 in /usr/local/lib/python3.10/dist-packages (from requests->vnstock3) (2024.2.2)\n",
            "Requirement already satisfied: six>=1.5 in /usr/local/lib/python3.10/dist-packages (from python-dateutil>=2.8.2->pandas->vnstock3) (1.16.0)\n",
            "Requirement already satisfied: cffi>=1.12 in /usr/local/lib/python3.10/dist-packages (from cryptography->vnai>=0.1.0->vnstock3) (1.16.0)\n",
            "Requirement already satisfied: pycparser in /usr/local/lib/python3.10/dist-packages (from cffi>=1.12->cryptography->vnai>=0.1.0->vnstock3) (2.22)\n"
          ]
        }
      ],
      "source": [
        "!pip install -U vnstock3"
      ]
    },
    {
      "cell_type": "code",
      "source": [
        "from vnstock3 import Vnstock\n",
        "import os\n",
        "if \"ACCEPT_TC\" not in os.environ:\n",
        "    os.environ[\"ACCEPT_TC\"] = \"tôi đồng ý\""
      ],
      "metadata": {
        "id": "byFxxOLtE1BZ"
      },
      "execution_count": 11,
      "outputs": []
    },
    {
      "cell_type": "code",
      "source": [
        "# Khởi tạo đối tượng stock để dùng cho tất cả thao tác truy xuất dữ liệu chứng khoán về sau\n",
        "# Chọn nguồn dữ liệu thuộc danh sách được hỗ trợ: VCI, TCBS cho chứng khoán trong nước, MSN cho dữ liệu chứng khoán quốc tế và sàn HOSE.\n",
        "\n",
        "stock = Vnstock().stock(symbol='VN30F1M', source='VCI')\n",
        "stock_name = input()"
      ],
      "metadata": {
        "id": "4k-nlbG5E4v9",
        "colab": {
          "base_uri": "https://localhost:8080/"
        },
        "outputId": "bbdd4ac9-f987-41e5-9026-7487cdd29bac"
      },
      "execution_count": 17,
      "outputs": [
        {
          "name": "stdout",
          "output_type": "stream",
          "text": [
            "ACB\n"
          ]
        }
      ]
    },
    {
      "cell_type": "code",
      "source": [
        "stock.trading.price_board([stock_name])"
      ],
      "metadata": {
        "colab": {
          "base_uri": "https://localhost:8080/",
          "height": 160
        },
        "id": "SjbHllBzGlzw",
        "outputId": "5fc15d08-b3e4-418c-ca50-783b841a23db"
      },
      "execution_count": 18,
      "outputs": [
        {
          "output_type": "execute_result",
          "data": {
            "text/plain": [
              "  listing                                                                 \\\n",
              "   symbol ceiling  floor ref_price stock_type exchange last_trading_date   \n",
              "0     ACB   30200  26300     28250      STOCK      HSX                     \n",
              "\n",
              "                                ...     bid_ask                           \\\n",
              "  listed_share   type       id  ... bid_2_price bid_2_volume bid_3_price   \n",
              "0   3884050358  STOCK  8424512  ...       28200       374900       28150   \n",
              "\n",
              "                                                                              \\\n",
              "  bid_3_volume ask_1_price ask_1_volume ask_2_price ask_2_volume ask_3_price   \n",
              "0       149500       28300       174000       28350       203600       28400   \n",
              "\n",
              "                \n",
              "  ask_3_volume  \n",
              "0       534600  \n",
              "\n",
              "[1 rows x 36 columns]"
            ],
            "text/html": [
              "\n",
              "  <div id=\"df-0f46ba06-7099-4158-b0d4-c2b05fe0c32d\" class=\"colab-df-container\">\n",
              "    <div>\n",
              "<style scoped>\n",
              "    .dataframe tbody tr th:only-of-type {\n",
              "        vertical-align: middle;\n",
              "    }\n",
              "\n",
              "    .dataframe tbody tr th {\n",
              "        vertical-align: top;\n",
              "    }\n",
              "\n",
              "    .dataframe thead tr th {\n",
              "        text-align: left;\n",
              "    }\n",
              "</style>\n",
              "<table border=\"1\" class=\"dataframe\">\n",
              "  <thead>\n",
              "    <tr>\n",
              "      <th></th>\n",
              "      <th colspan=\"10\" halign=\"left\">listing</th>\n",
              "      <th>...</th>\n",
              "      <th colspan=\"10\" halign=\"left\">bid_ask</th>\n",
              "    </tr>\n",
              "    <tr>\n",
              "      <th></th>\n",
              "      <th>symbol</th>\n",
              "      <th>ceiling</th>\n",
              "      <th>floor</th>\n",
              "      <th>ref_price</th>\n",
              "      <th>stock_type</th>\n",
              "      <th>exchange</th>\n",
              "      <th>last_trading_date</th>\n",
              "      <th>listed_share</th>\n",
              "      <th>type</th>\n",
              "      <th>id</th>\n",
              "      <th>...</th>\n",
              "      <th>bid_2_price</th>\n",
              "      <th>bid_2_volume</th>\n",
              "      <th>bid_3_price</th>\n",
              "      <th>bid_3_volume</th>\n",
              "      <th>ask_1_price</th>\n",
              "      <th>ask_1_volume</th>\n",
              "      <th>ask_2_price</th>\n",
              "      <th>ask_2_volume</th>\n",
              "      <th>ask_3_price</th>\n",
              "      <th>ask_3_volume</th>\n",
              "    </tr>\n",
              "  </thead>\n",
              "  <tbody>\n",
              "    <tr>\n",
              "      <th>0</th>\n",
              "      <td>ACB</td>\n",
              "      <td>30200</td>\n",
              "      <td>26300</td>\n",
              "      <td>28250</td>\n",
              "      <td>STOCK</td>\n",
              "      <td>HSX</td>\n",
              "      <td></td>\n",
              "      <td>3884050358</td>\n",
              "      <td>STOCK</td>\n",
              "      <td>8424512</td>\n",
              "      <td>...</td>\n",
              "      <td>28200</td>\n",
              "      <td>374900</td>\n",
              "      <td>28150</td>\n",
              "      <td>149500</td>\n",
              "      <td>28300</td>\n",
              "      <td>174000</td>\n",
              "      <td>28350</td>\n",
              "      <td>203600</td>\n",
              "      <td>28400</td>\n",
              "      <td>534600</td>\n",
              "    </tr>\n",
              "  </tbody>\n",
              "</table>\n",
              "<p>1 rows × 36 columns</p>\n",
              "</div>\n",
              "    <div class=\"colab-df-buttons\">\n",
              "\n",
              "  <div class=\"colab-df-container\">\n",
              "    <button class=\"colab-df-convert\" onclick=\"convertToInteractive('df-0f46ba06-7099-4158-b0d4-c2b05fe0c32d')\"\n",
              "            title=\"Convert this dataframe to an interactive table.\"\n",
              "            style=\"display:none;\">\n",
              "\n",
              "  <svg xmlns=\"http://www.w3.org/2000/svg\" height=\"24px\" viewBox=\"0 -960 960 960\">\n",
              "    <path d=\"M120-120v-720h720v720H120Zm60-500h600v-160H180v160Zm220 220h160v-160H400v160Zm0 220h160v-160H400v160ZM180-400h160v-160H180v160Zm440 0h160v-160H620v160ZM180-180h160v-160H180v160Zm440 0h160v-160H620v160Z\"/>\n",
              "  </svg>\n",
              "    </button>\n",
              "\n",
              "  <style>\n",
              "    .colab-df-container {\n",
              "      display:flex;\n",
              "      gap: 12px;\n",
              "    }\n",
              "\n",
              "    .colab-df-convert {\n",
              "      background-color: #E8F0FE;\n",
              "      border: none;\n",
              "      border-radius: 50%;\n",
              "      cursor: pointer;\n",
              "      display: none;\n",
              "      fill: #1967D2;\n",
              "      height: 32px;\n",
              "      padding: 0 0 0 0;\n",
              "      width: 32px;\n",
              "    }\n",
              "\n",
              "    .colab-df-convert:hover {\n",
              "      background-color: #E2EBFA;\n",
              "      box-shadow: 0px 1px 2px rgba(60, 64, 67, 0.3), 0px 1px 3px 1px rgba(60, 64, 67, 0.15);\n",
              "      fill: #174EA6;\n",
              "    }\n",
              "\n",
              "    .colab-df-buttons div {\n",
              "      margin-bottom: 4px;\n",
              "    }\n",
              "\n",
              "    [theme=dark] .colab-df-convert {\n",
              "      background-color: #3B4455;\n",
              "      fill: #D2E3FC;\n",
              "    }\n",
              "\n",
              "    [theme=dark] .colab-df-convert:hover {\n",
              "      background-color: #434B5C;\n",
              "      box-shadow: 0px 1px 3px 1px rgba(0, 0, 0, 0.15);\n",
              "      filter: drop-shadow(0px 1px 2px rgba(0, 0, 0, 0.3));\n",
              "      fill: #FFFFFF;\n",
              "    }\n",
              "  </style>\n",
              "\n",
              "    <script>\n",
              "      const buttonEl =\n",
              "        document.querySelector('#df-0f46ba06-7099-4158-b0d4-c2b05fe0c32d button.colab-df-convert');\n",
              "      buttonEl.style.display =\n",
              "        google.colab.kernel.accessAllowed ? 'block' : 'none';\n",
              "\n",
              "      async function convertToInteractive(key) {\n",
              "        const element = document.querySelector('#df-0f46ba06-7099-4158-b0d4-c2b05fe0c32d');\n",
              "        const dataTable =\n",
              "          await google.colab.kernel.invokeFunction('convertToInteractive',\n",
              "                                                    [key], {});\n",
              "        if (!dataTable) return;\n",
              "\n",
              "        const docLinkHtml = 'Like what you see? Visit the ' +\n",
              "          '<a target=\"_blank\" href=https://colab.research.google.com/notebooks/data_table.ipynb>data table notebook</a>'\n",
              "          + ' to learn more about interactive tables.';\n",
              "        element.innerHTML = '';\n",
              "        dataTable['output_type'] = 'display_data';\n",
              "        await google.colab.output.renderOutput(dataTable, element);\n",
              "        const docLink = document.createElement('div');\n",
              "        docLink.innerHTML = docLinkHtml;\n",
              "        element.appendChild(docLink);\n",
              "      }\n",
              "    </script>\n",
              "  </div>\n",
              "\n",
              "\n",
              "    </div>\n",
              "  </div>\n"
            ],
            "application/vnd.google.colaboratory.intrinsic+json": {
              "type": "dataframe"
            }
          },
          "metadata": {},
          "execution_count": 18
        }
      ]
    }
  ]
}